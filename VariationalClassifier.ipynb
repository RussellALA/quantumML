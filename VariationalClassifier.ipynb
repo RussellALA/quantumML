{
 "cells": [
  {
   "cell_type": "markdown",
   "id": "dbbb7df4",
   "metadata": {},
   "source": [
    "## Imports"
   ]
  },
  {
   "cell_type": "code",
   "execution_count": 68,
   "id": "64048570",
   "metadata": {},
   "outputs": [],
   "source": [
    "import matplotlib.pyplot as plt\n",
    "\n",
    "from qiskit import Aer, assemble, transpile\n",
    "from qiskit import QuantumCircuit, ClassicalRegister, QuantumRegister\n",
    "\n",
    "from qiskit.visualization import plot_histogram\n",
    "\n",
    "import pennylane as qml\n",
    "\n",
    "from pennylane import numpy as np\n",
    "from pennylane.optimize import AdamOptimizer\n",
    "import math"
   ]
  },
  {
   "cell_type": "markdown",
   "id": "eefdaab9",
   "metadata": {},
   "source": [
    "## Model definition"
   ]
  },
  {
   "cell_type": "code",
   "execution_count": 2,
   "id": "97926bb9",
   "metadata": {},
   "outputs": [],
   "source": [
    "device = qml.device('default.qubit', wires=2)"
   ]
  },
  {
   "cell_type": "code",
   "execution_count": 63,
   "id": "f36fdfbb",
   "metadata": {},
   "outputs": [],
   "source": [
    "class Model:\n",
    "    def __init__(self, n_features=2, n_layers=2):\n",
    "        self.n_features = n_features\n",
    "        self.n_layers = n_layers\n",
    "        self.n_params = self.n_layers*self.n_features*3 + 1\n",
    "\n",
    "        \n",
    "    def __call__(self, x, parameters, bias):\n",
    "        parameters = parameters.reshape(self.n_layers, self.n_features, 3)\n",
    "        \n",
    "        #State Preparation\n",
    "        for i in range(self.n_features):\n",
    "            qml.RY(x[:,i], wires=i)\n",
    "            qml.RY(x[:,i], wires=i)\n",
    "        #Add layers\n",
    "        for i in range(self.n_layers):\n",
    "            for j in range(self.n_features):\n",
    "                qml.RX(parameters[i, j, 0], wires=j)\n",
    "                qml.RY(parameters[i, j, 1], wires=j)\n",
    "                qml.RZ(parameters[i, j, 2], wires=j)\n",
    "                \n",
    "            for j in range(self.n_features):\n",
    "                qml.CNOT(wires=[0,1])\n",
    "                qml.CNOT(wires=[1,0])\n",
    "        #For measurement apply Pauli-Z to first qubit\n",
    "        quantum_output = qml.expval(qml.PauliZ(wires=0))\n",
    "        #apply the bias\n",
    "        return quantum_output + bias"
   ]
  },
  {
   "cell_type": "markdown",
   "id": "b032ecc3",
   "metadata": {},
   "source": [
    "## Loss Function"
   ]
  },
  {
   "cell_type": "code",
   "execution_count": 64,
   "id": "2191f4d4",
   "metadata": {},
   "outputs": [],
   "source": [
    "def cost(v, model, X, Y):\n",
    "    out = model(X, v[:-1], v[-1])\n",
    "    return loss(Y, out)\n",
    "    \n",
    "\n",
    "def loss(y, out):\n",
    "    return np.mean((y - out)**2)"
   ]
  },
  {
   "cell_type": "markdown",
   "id": "7277d3b0",
   "metadata": {},
   "source": [
    "## Data Generation"
   ]
  },
  {
   "cell_type": "code",
   "execution_count": 61,
   "id": "85da60f1",
   "metadata": {},
   "outputs": [],
   "source": [
    "n_signal, n_background = 10000, 10000\n",
    "\n",
    "data_signal = np.random.multivariate_normal([0, 0], [[0.8, -0.6], [-0.6, 0.8]], size=n_signal)\n",
    "data_background = np.random.randn(n_signal, 2)\n",
    "\n"
   ]
  },
  {
   "cell_type": "code",
   "execution_count": 62,
   "id": "097e9238",
   "metadata": {},
   "outputs": [
    {
     "data": {
      "image/png": "[encoded data removed]",
      "text/plain": [
       "<Figure size 1620x540 with 3 Axes>"
      ]
     },
     "metadata": {
      "needs_background": "light"
     },
     "output_type": "display_data"
    }
   ],
   "source": [
    "plt.figure(figsize=(22.5, 7.5))\n",
    "plt.subplot(1, 3, 1)\n",
    "plt.hist(data_signal[:,0], bins=25, histtype=\"step\", color=\"red\", density=True)\n",
    "plt.hist(data_background[:,0], bins=25, histtype=\"step\", density=True)\n",
    "\n",
    "plt.subplot(1, 3, 2)\n",
    "plt.hist(data_signal[:,1], bins=25, histtype=\"step\", color=\"red\", density=True)\n",
    "plt.hist(data_background[:,1], bins=25, histtype=\"step\", density=True)\n",
    "\n",
    "plt.subplot(1, 3, 3)\n",
    "plt.hist(np.sum(data_signal**2, axis=1), bins=25, histtype=\"step\", color=\"red\", range=(0,10), density=True)\n",
    "plt.hist(np.sum(data_background**2, axis=1), bins=25, histtype=\"step\", range=(0,10), density=True)\n",
    "plt.show()"
   ]
  },
  {
   "cell_type": "markdown",
   "id": "89f14349",
   "metadata": {},
   "source": [
    "## Dataloader"
   ]
  },
  {
   "cell_type": "code",
   "execution_count": null,
   "id": "c9c22e5d",
   "metadata": {},
   "outputs": [],
   "source": [
    "data_train = np.concatenate([data_signal[:math.ceil(0.8*len(data_signal))], data_background[:math.ceil(0.8*len(data_background))]], axis=0)\n",
    "labels_train = np.concatenate([np.ones(math.ceil(0.8*len(data_signal))), np.zeros(math.ceil(0.8*len(data_background)))], axis=0)\n",
    "data_val = np.concatenate([data_signal[math.ceil(0.8*len(data_signal)):], data_background[math.ceil(0.8*len(data_background))]:], axis=0)\n",
    "labels_val = np.concatenate([np.ones(math.floor(0.2*len(data_signal))), np.zeros(math.floor(0.2*len(data_background)))], axis=0)\n",
    "\n",
    "\n",
    "class Dataloader:\n",
    "    def __init__(self, data, labels, batchsize):\n",
    "        assert len(data) == len(labels), \"Require the same amount of labels as data\"\n",
    "        self.data = data\n",
    "        self.labels = labels\n",
    "        self.perm = np.random.randn()"
   ]
  },
  {
   "cell_type": "markdown",
   "id": "68a57460",
   "metadata": {},
   "source": [
    "## Training"
   ]
  },
  {
   "cell_type": "code",
   "execution_count": 67,
   "id": "e311839c",
   "metadata": {},
   "outputs": [],
   "source": [
    "opt = AdamOptimizer(0.005, beta1=0.9, beta2=0.9)\n",
    "model = Model()\n",
    "\n",
    "#Initial params\n",
    "v = np.random.randn(model.n_params)\n",
    "\n",
    "n_epochs = 5\n",
    "batch_size = 1024\n",
    "\n",
    "for epoch in range(n_epochs):\n",
    "    # Shuffle data\n",
    "    perm = np.random.permutation(len(data_train))\n",
    "    data_train = data_train[perm]\n",
    "    labels_train = labels_train[perm]\n",
    "    "
   ]
  },
  {
   "cell_type": "code",
   "execution_count": null,
   "id": "6e0b7074",
   "metadata": {},
   "outputs": [],
   "source": []
  }
 ],
 "metadata": {
  "kernelspec": {
   "display_name": "Python 3 (ipykernel)",
   "language": "python",
   "name": "python3"
  },
  "language_info": {
   "codemirror_mode": {
    "name": "ipython",
    "version": 3
   },
   "file_extension": ".py",
   "mimetype": "text/x-python",
   "name": "python",
   "nbconvert_exporter": "python",
   "pygments_lexer": "ipython3",
   "version": "3.8.10"
  }
 },
 "nbformat": 4,
 "nbformat_minor": 5
}
